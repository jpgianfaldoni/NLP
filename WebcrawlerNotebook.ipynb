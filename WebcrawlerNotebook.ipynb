{
 "cells": [
  {
   "cell_type": "code",
   "execution_count": null,
   "metadata": {},
   "outputs": [],
   "source": [
    "from bs4 import BeautifulSoup\n",
    "import urllib\n",
    "from functools import partial\n",
    "import mysql.connector\n",
    "import re"
   ]
  },
  {
   "cell_type": "code",
   "execution_count": null,
   "metadata": {},
   "outputs": [],
   "source": [
    "###Functions\n",
    "\n",
    "def getPageSoup(url):\n",
    "    user_agent = 'Mozilla/5.0 (Windows; U; Windows NT 5.1; en-US; rv:1.9.0.7) Gecko/2009021910 Firefox/3.0.7'\n",
    "    headers={'User-Agent':user_agent,} \n",
    "    request=urllib.request.Request(url,None,headers) \n",
    "    response = urllib.request.urlopen(request)\n",
    "    soup = BeautifulSoup(response, 'html.parser')\n",
    "    return soup\n",
    "\n",
    "def getPageText(soup):\n",
    "    page_text = soup.find_all('p')\n",
    "    page_string = \"\"\n",
    "    for p in page_text:\n",
    "        page_string += p.get_text()\n",
    "    return page_string\n",
    "\n",
    "def getPageTitle(soup):\n",
    "    return soup.title.string\n",
    "\n",
    "def getAllLinks(soup):\n",
    "    links =[]\n",
    "    all_links = soup.find_all('a')\n",
    "    for link in all_links:\n",
    "        links.append(link.get('href'))\n",
    "    return links\n",
    "    "
   ]
  },
  {
   "cell_type": "code",
   "execution_count": null,
   "metadata": {},
   "outputs": [],
   "source": [
    "original_url = \"https://georgerrmartin.com/notablog/\"\n",
    "soup = getPageSoup(original_url)"
   ]
  },
  {
   "cell_type": "code",
   "execution_count": null,
   "metadata": {},
   "outputs": [],
   "source": [
    "page_title = getPageTitle(soup)\n",
    "page_text = getPageText(soup)\n",
    "page_links = getAllLinks(soup)\n"
   ]
  },
  {
   "cell_type": "code",
   "execution_count": null,
   "metadata": {},
   "outputs": [],
   "source": [
    "### Database connection\n",
    "from functools import partial\n",
    "import mysql.connector\n",
    "\n",
    "connection = mysql.connector.connect(\n",
    "    host='localhost',\n",
    "    user='root',\n",
    "    password='', #sua senha\n",
    "    database='nlp', #Nome database que quer acessar\n",
    ")\n",
    "\n",
    "\n",
    "def run_db_query(connection, query, args=None):\n",
    "    with connection.cursor() as cursor:\n",
    "        print('Executando query:')\n",
    "        cursor.execute(query, args)\n",
    "        for result in cursor:\n",
    "            print(result)\n",
    "\n",
    "\n",
    "db = partial(run_db_query, connection)"
   ]
  },
  {
   "cell_type": "code",
   "execution_count": null,
   "metadata": {},
   "outputs": [],
   "source": [
    "### Database creation\n",
    "# db('''CREATE TABLE websites(\n",
    "# website_id INT NOT NULL AUTO_INCREMENT,\n",
    "# url VARCHAR(150),\n",
    "# website_content TEXT, \n",
    "# PRIMARY KEY (website_id)\n",
    "# )\n",
    "# ''')"
   ]
  },
  {
   "cell_type": "code",
   "execution_count": null,
   "metadata": {},
   "outputs": [],
   "source": [
    "db(f\"INSERT INTO websites(url, website_content) VALUES('{original_url}', '{page_text}')\")"
   ]
  },
  {
   "cell_type": "code",
   "execution_count": null,
   "metadata": {},
   "outputs": [],
   "source": [
    "for link in page_links:\n",
    "    try:\n",
    "        soup = getPageSoup(link)\n",
    "        page_text = getPageText(soup)\n",
    "        print(page_text)\n",
    "        db(f\"INSERT INTO websites(url, website_content) VALUES('{link}', '{page_text}')\")\n",
    "    except:\n",
    "        print(\"An exception occurred\")\n",
    "    "
   ]
  },
  {
   "cell_type": "code",
   "execution_count": null,
   "metadata": {},
   "outputs": [],
   "source": [
    "db('''commit''')"
   ]
  },
  {
   "cell_type": "code",
   "execution_count": null,
   "metadata": {},
   "outputs": [],
   "source": [
    "connection.close()"
   ]
  },
  {
   "cell_type": "code",
   "execution_count": null,
   "metadata": {},
   "outputs": [],
   "source": []
  }
 ],
 "metadata": {
  "kernelspec": {
   "display_name": "Python 3",
   "language": "python",
   "name": "python3"
  },
  "language_info": {
   "codemirror_mode": {
    "name": "ipython",
    "version": 3
   },
   "file_extension": ".py",
   "mimetype": "text/x-python",
   "name": "python",
   "nbconvert_exporter": "python",
   "pygments_lexer": "ipython3",
   "version": "3.7.1"
  }
 },
 "nbformat": 4,
 "nbformat_minor": 2
}
